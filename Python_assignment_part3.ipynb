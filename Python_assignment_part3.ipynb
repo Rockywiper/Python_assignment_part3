{
 "cells": [
  {
   "cell_type": "markdown",
   "id": "3bca070e",
   "metadata": {},
   "source": [
    "## 2. Fibonacci series"
   ]
  },
  {
   "cell_type": "code",
   "execution_count": 3,
   "id": "82a7481f",
   "metadata": {},
   "outputs": [
    {
     "name": "stdout",
     "output_type": "stream",
     "text": [
      "Enter the number:10\n",
      "0\n",
      "1\n",
      "1\n",
      "2\n",
      "3\n",
      "5\n",
      "8\n",
      "13\n",
      "21\n",
      "34\n"
     ]
    }
   ],
   "source": [
    "n = int(input('Enter the number:'))\n",
    "first = 0\n",
    "second = 1\n",
    "\n",
    "for i in range(n):\n",
    "    print(first)\n",
    "    temp = first\n",
    "    first = second\n",
    "    second = temp + second\n"
   ]
  },
  {
   "cell_type": "markdown",
   "id": "bdc0d539",
   "metadata": {},
   "source": [
    "## 3.\tWrite an iterator class to iterate over a sequence of values in the reverse direction"
   ]
  },
  {
   "cell_type": "code",
   "execution_count": 35,
   "id": "27cef4aa",
   "metadata": {},
   "outputs": [
    {
     "name": "stdout",
     "output_type": "stream",
     "text": [
      "[20, 106, 94, 83, 72, 65, 52, 42, 32, 21]\n"
     ]
    }
   ],
   "source": [
    "a = [11, 22, 32, 42, 55, 62, 73, 84, 96, 10]\n",
    "\n",
    "reversed_list = a[::-1]\n",
    "b = [i + 10 for i in reversed_list]\n",
    "print(b)\n",
    "\n"
   ]
  },
  {
   "cell_type": "markdown",
   "id": "d7ae9a36",
   "metadata": {},
   "source": [
    "## 4. Write a function “salary” that takes in base pay, HRA and special allowance as arguments and returns the sum of all the 3 salary elements. Then create a decorator function to add an additional element “Tax” (30% of base pay) and assign it back to base pay variable, and return the function (i.e., the final calculation of salary also includes tax)"
   ]
  },
  {
   "cell_type": "code",
   "execution_count": 4,
   "id": "00b8c489",
   "metadata": {},
   "outputs": [
    {
     "data": {
      "text/plain": [
       "30"
      ]
     },
     "execution_count": 4,
     "metadata": {},
     "output_type": "execute_result"
    }
   ],
   "source": [
    "def salary(base_pay, HRA, special_allowance):\n",
    "     b = base_pay + HRA + special_allowance\n",
    "     return b\n",
    "\n",
    "salary(10, 10, 10)"
   ]
  },
  {
   "cell_type": "code",
   "execution_count": 13,
   "id": "19340752",
   "metadata": {},
   "outputs": [
    {
     "data": {
      "text/plain": [
       "3.0"
      ]
     },
     "execution_count": 13,
     "metadata": {},
     "output_type": "execute_result"
    }
   ],
   "source": [
    " def func(add):\n",
    "        def Tax(base_pay, HRA, special_allowance):\n",
    "            tax = (30/100) * base_pay\n",
    "            base_pay = tax\n",
    "            return add(base_pay, HRA, special_allowance)\n",
    "        return Tax\n",
    "    \n",
    "Tax(10, 10, 10)\n",
    "    "
   ]
  },
  {
   "cell_type": "markdown",
   "id": "f4c0f714",
   "metadata": {},
   "source": [
    "## 5. Write 3 examples on possible methods to changing a tuple"
   ]
  },
  {
   "cell_type": "code",
   "execution_count": 14,
   "id": "901dc48b",
   "metadata": {},
   "outputs": [
    {
     "data": {
      "text/plain": [
       "tuple"
      ]
     },
     "execution_count": 14,
     "metadata": {},
     "output_type": "execute_result"
    }
   ],
   "source": [
    "tuple1 = (1, 2, 3, 4)\n",
    "type(tuple1)"
   ]
  },
  {
   "cell_type": "code",
   "execution_count": 19,
   "id": "db8aaab7",
   "metadata": {},
   "outputs": [
    {
     "data": {
      "text/plain": [
       "(2, 3, 4)"
      ]
     },
     "execution_count": 19,
     "metadata": {},
     "output_type": "execute_result"
    }
   ],
   "source": [
    "tuple2 = tuple1[1:]\n",
    "tuple2"
   ]
  },
  {
   "cell_type": "code",
   "execution_count": 33,
   "id": "594da376",
   "metadata": {},
   "outputs": [
    {
     "name": "stdout",
     "output_type": "stream",
     "text": [
      "[2, 2, 4]\n"
     ]
    }
   ],
   "source": [
    "a = list(tuple2) \n",
    "a[1] = 2\n",
    "print(a)"
   ]
  },
  {
   "cell_type": "code",
   "execution_count": null,
   "id": "b3363beb",
   "metadata": {},
   "outputs": [],
   "source": []
  }
 ],
 "metadata": {
  "kernelspec": {
   "display_name": "Python 3 (ipykernel)",
   "language": "python",
   "name": "python3"
  },
  "language_info": {
   "codemirror_mode": {
    "name": "ipython",
    "version": 3
   },
   "file_extension": ".py",
   "mimetype": "text/x-python",
   "name": "python",
   "nbconvert_exporter": "python",
   "pygments_lexer": "ipython3",
   "version": "3.9.7"
  }
 },
 "nbformat": 4,
 "nbformat_minor": 5
}
